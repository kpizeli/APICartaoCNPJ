{
 "cells": [
  {
   "cell_type": "markdown",
   "id": "d5a1574c",
   "metadata": {},
   "source": [
    "## Tempo Médio de Execução: ## \n",
    "### 24s ###"
   ]
  },
  {
   "cell_type": "code",
   "execution_count": 1,
   "id": "6d8fb967",
   "metadata": {},
   "outputs": [
    {
     "name": "stdout",
     "output_type": "stream",
     "text": [
      "Buscando 15366718000173...\n"
     ]
    },
    {
     "name": "stderr",
     "output_type": "stream",
     "text": [
      "C:\\Users\\u004132\\AppData\\Roaming\\Python\\Python311\\site-packages\\urllib3\\connectionpool.py:1099: InsecureRequestWarning: Unverified HTTPS request is being made to host 'open.cnpja.com'. Adding certificate verification is strongly advised. See: https://urllib3.readthedocs.io/en/latest/advanced-usage.html#tls-warnings\n",
      "  warnings.warn(\n"
     ]
    },
    {
     "name": "stdout",
     "output_type": "stream",
     "text": [
      "CNPJ {cnpj} adicionado ao arquivo.\n",
      "Buscando 43610802000126...\n"
     ]
    },
    {
     "name": "stderr",
     "output_type": "stream",
     "text": [
      "C:\\Users\\u004132\\AppData\\Roaming\\Python\\Python311\\site-packages\\urllib3\\connectionpool.py:1099: InsecureRequestWarning: Unverified HTTPS request is being made to host 'open.cnpja.com'. Adding certificate verification is strongly advised. See: https://urllib3.readthedocs.io/en/latest/advanced-usage.html#tls-warnings\n",
      "  warnings.warn(\n"
     ]
    },
    {
     "name": "stdout",
     "output_type": "stream",
     "text": [
      "CNPJ {cnpj} adicionado ao arquivo.\n",
      "Buscando 50775736000100...\n"
     ]
    },
    {
     "name": "stderr",
     "output_type": "stream",
     "text": [
      "C:\\Users\\u004132\\AppData\\Roaming\\Python\\Python311\\site-packages\\urllib3\\connectionpool.py:1099: InsecureRequestWarning: Unverified HTTPS request is being made to host 'open.cnpja.com'. Adding certificate verification is strongly advised. See: https://urllib3.readthedocs.io/en/latest/advanced-usage.html#tls-warnings\n",
      "  warnings.warn(\n"
     ]
    },
    {
     "name": "stdout",
     "output_type": "stream",
     "text": [
      "CNPJ {cnpj} adicionado ao arquivo.\n",
      "Buscando 51761680000105...\n"
     ]
    },
    {
     "name": "stderr",
     "output_type": "stream",
     "text": [
      "C:\\Users\\u004132\\AppData\\Roaming\\Python\\Python311\\site-packages\\urllib3\\connectionpool.py:1099: InsecureRequestWarning: Unverified HTTPS request is being made to host 'open.cnpja.com'. Adding certificate verification is strongly advised. See: https://urllib3.readthedocs.io/en/latest/advanced-usage.html#tls-warnings\n",
      "  warnings.warn(\n"
     ]
    },
    {
     "name": "stdout",
     "output_type": "stream",
     "text": [
      "CNPJ {cnpj} adicionado ao arquivo.\n",
      "Buscando 53574287000120...\n"
     ]
    },
    {
     "name": "stderr",
     "output_type": "stream",
     "text": [
      "C:\\Users\\u004132\\AppData\\Roaming\\Python\\Python311\\site-packages\\urllib3\\connectionpool.py:1099: InsecureRequestWarning: Unverified HTTPS request is being made to host 'open.cnpja.com'. Adding certificate verification is strongly advised. See: https://urllib3.readthedocs.io/en/latest/advanced-usage.html#tls-warnings\n",
      "  warnings.warn(\n"
     ]
    },
    {
     "name": "stdout",
     "output_type": "stream",
     "text": [
      "CNPJ {cnpj} adicionado ao arquivo.\n",
      "Buscando 55126120000121...\n"
     ]
    },
    {
     "name": "stderr",
     "output_type": "stream",
     "text": [
      "C:\\Users\\u004132\\AppData\\Roaming\\Python\\Python311\\site-packages\\urllib3\\connectionpool.py:1099: InsecureRequestWarning: Unverified HTTPS request is being made to host 'open.cnpja.com'. Adding certificate verification is strongly advised. See: https://urllib3.readthedocs.io/en/latest/advanced-usage.html#tls-warnings\n",
      "  warnings.warn(\n"
     ]
    },
    {
     "name": "stdout",
     "output_type": "stream",
     "text": [
      "CNPJ {cnpj} adicionado ao arquivo.\n",
      "Buscando 58110445000104...\n"
     ]
    },
    {
     "name": "stderr",
     "output_type": "stream",
     "text": [
      "C:\\Users\\u004132\\AppData\\Roaming\\Python\\Python311\\site-packages\\urllib3\\connectionpool.py:1099: InsecureRequestWarning: Unverified HTTPS request is being made to host 'open.cnpja.com'. Adding certificate verification is strongly advised. See: https://urllib3.readthedocs.io/en/latest/advanced-usage.html#tls-warnings\n",
      "  warnings.warn(\n"
     ]
    },
    {
     "name": "stdout",
     "output_type": "stream",
     "text": [
      "CNPJ {cnpj} adicionado ao arquivo.\n"
     ]
    }
   ],
   "source": [
    "import pandas as pd\n",
    "import os\n",
    "import requests  # Adicionada a importação do requests\n",
    "import time\n",
    "\n",
    "def get_razao_social(cnpj):\n",
    "    url = f\"https://open.cnpja.com/office/{cnpj}\"\n",
    "    \n",
    "    try:\n",
    "        response = requests.get(url, verify=False)\n",
    "        \n",
    "        if response.status_code == 200:\n",
    "            try:\n",
    "                data = response.json()\n",
    "                nome = data.get('company', {}).get('name')\n",
    "                return data if nome else \"Razão social não encontrada\"\n",
    "            except ValueError:\n",
    "                return \"Erro ao decodificar o JSON\"\n",
    "        else:\n",
    "            return f\"Erro na requisição: {response.status_code}\"\n",
    "    except Exception as e:\n",
    "        return f\"Exceção ocorreu: {str(e)}\"\n",
    "\n",
    "# Ler a lista de CSVs\n",
    "lista = pd.read_csv('lista_cnpjs.csv')\n",
    "lista['cnpjs'] = lista['cnpjs'].astype(str)\n",
    "\n",
    "# Gerar DataFrame\n",
    "df = pd.DataFrame({\n",
    "    'RazaoSocial': [],\n",
    "    'CNPJ': [],\n",
    "    'NaturezaJuridica': [],\n",
    "    'Rua': [],\n",
    "    'Numero': [],\n",
    "    'Cidade': [],\n",
    "    'UF': [],\n",
    "    'Pais': []\n",
    "})\n",
    "\n",
    "# Nome do arquivo\n",
    "file_name = 'dados_backup.csv'\n",
    "\n",
    "for index, row in lista.iterrows():\n",
    "    print(f\"Buscando {row['cnpjs']}...\")\n",
    "\n",
    "    # Aqui o script aguarda 20 segundos a cada iteração para não ultrapassar o limite gratuito da API (5 reqs. p/ minuto)\n",
    "    time.sleep(20)\n",
    "    \n",
    "    try:\n",
    "        data = get_razao_social(row['cnpjs'])  # Corrigido para usar row['cnpjs']\n",
    "\n",
    "        if isinstance(data, dict):  # Verifica se a resposta é um dicionário\n",
    "            razao_social = data['company']['name']\n",
    "            natureza_juridica = data['company']['nature']['text']\n",
    "            rua = data['address'].get('street', 'N/A')\n",
    "            numero = data['address'].get('number', 'N/A')\n",
    "            distrito = data['address'].get('district', 'N/A')\n",
    "            cep = data['address'].get('zip', 'N/A')\n",
    "            cidade = data['address'].get('city', 'N/A')\n",
    "            uf = data['address']['state']\n",
    "            pais = data['address']['country'].get('name', 'N/A')\n",
    "\n",
    "            nova_linha = pd.DataFrame({'RazaoSocial': [razao_social],\n",
    "                                       'CNPJ': [row['cnpjs']],  # Corrigido para usar row['cnpjs']\n",
    "                                       'NaturezaJuridica': [natureza_juridica],\n",
    "                                       'Rua': [rua],\n",
    "                                       'Numero': [numero],\n",
    "                                       'CEP': [cep],\n",
    "                                       'Distrito': [distrito],\n",
    "                                       'Cidade': [cidade],\n",
    "                                       'UF': [uf],\n",
    "                                       'Pais': [pais]})\n",
    "            \n",
    "            df = pd.concat([df, nova_linha], ignore_index=True)\n",
    "\n",
    "            # Verifica se o arquivo existe\n",
    "            if not os.path.isfile(file_name):\n",
    "                # Se não existe, cria a planilha a partir do DataFrame\n",
    "                df.to_csv(file_name, index=False)\n",
    "                print(f'O arquivo {file_name} foi criado.')\n",
    "\n",
    "        else:\n",
    "            print(f\"Erro ao buscar dados: {data}\")\n",
    "        \n",
    "    except Exception as e:\n",
    "        print(f\"Ocorreu um erro: {e}\")\n",
    "\n",
    "    print('CNPJ {cnpj} adicionado ao arquivo.')\n",
    "\n",
    "# Salva o CSV apenas uma vez no final\n",
    "df.to_csv(file_name, index=False, encoding='utf-8-sig', sep= ';')"
   ]
  }
 ],
 "metadata": {
  "kernelspec": {
   "display_name": "Python 3",
   "language": "python",
   "name": "python3"
  },
  "language_info": {
   "codemirror_mode": {
    "name": "ipython",
    "version": 3
   },
   "file_extension": ".py",
   "mimetype": "text/x-python",
   "name": "python",
   "nbconvert_exporter": "python",
   "pygments_lexer": "ipython3",
   "version": "3.11.2"
  }
 },
 "nbformat": 4,
 "nbformat_minor": 5
}
