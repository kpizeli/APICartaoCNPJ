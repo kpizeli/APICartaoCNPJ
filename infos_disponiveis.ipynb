{
 "cells": [
  {
   "cell_type": "code",
   "execution_count": 15,
   "id": "a01e0c37",
   "metadata": {},
   "outputs": [
    {
     "name": "stdout",
     "output_type": "stream",
     "text": [
      "DataFrame da Company:\n"
     ]
    },
    {
     "name": "stderr",
     "output_type": "stream",
     "text": [
      "C:\\Users\\u004132\\AppData\\Roaming\\Python\\Python311\\site-packages\\urllib3\\connectionpool.py:1099: InsecureRequestWarning: Unverified HTTPS request is being made to host 'open.cnpja.com'. Adding certificate verification is strongly advised. See: https://urllib3.readthedocs.io/en/latest/advanced-usage.html#tls-warnings\n",
      "  warnings.warn(\n"
     ]
    },
    {
     "data": {
      "text/html": [
       "<div>\n",
       "<style scoped>\n",
       "    .dataframe tbody tr th:only-of-type {\n",
       "        vertical-align: middle;\n",
       "    }\n",
       "\n",
       "    .dataframe tbody tr th {\n",
       "        vertical-align: top;\n",
       "    }\n",
       "\n",
       "    .dataframe thead th {\n",
       "        text-align: right;\n",
       "    }\n",
       "</style>\n",
       "<table border=\"1\" class=\"dataframe\">\n",
       "  <thead>\n",
       "    <tr style=\"text-align: right;\">\n",
       "      <th></th>\n",
       "      <th>id</th>\n",
       "      <th>name</th>\n",
       "      <th>equity</th>\n",
       "      <th>nature</th>\n",
       "      <th>size</th>\n",
       "      <th>simples</th>\n",
       "      <th>simei</th>\n",
       "      <th>nature.id</th>\n",
       "      <th>nature.text</th>\n",
       "      <th>size.id</th>\n",
       "      <th>size.acronym</th>\n",
       "      <th>size.text</th>\n",
       "      <th>simples.optant</th>\n",
       "      <th>simples.since</th>\n",
       "      <th>simei.optant</th>\n",
       "      <th>simei.since</th>\n",
       "    </tr>\n",
       "  </thead>\n",
       "  <tbody>\n",
       "    <tr>\n",
       "      <th>0</th>\n",
       "      <td>20855875</td>\n",
       "      <td>NEON PAGAMENTOS SA INSTITUICAO DE PAGAMENTO</td>\n",
       "      <td>3.457167e+09</td>\n",
       "      <td>{'id': 2054, 'text': 'Sociedade Anônima Fechada'}</td>\n",
       "      <td>{'id': 5, 'acronym': 'DEMAIS', 'text': 'Demais'}</td>\n",
       "      <td>{'optant': False, 'since': None}</td>\n",
       "      <td>{'optant': False, 'since': None}</td>\n",
       "      <td>2054</td>\n",
       "      <td>Sociedade Anônima Fechada</td>\n",
       "      <td>5</td>\n",
       "      <td>DEMAIS</td>\n",
       "      <td>Demais</td>\n",
       "      <td>False</td>\n",
       "      <td>None</td>\n",
       "      <td>False</td>\n",
       "      <td>None</td>\n",
       "    </tr>\n",
       "  </tbody>\n",
       "</table>\n",
       "</div>"
      ],
      "text/plain": [
       "         id                                         name        equity  \\\n",
       "0  20855875  NEON PAGAMENTOS SA INSTITUICAO DE PAGAMENTO  3.457167e+09   \n",
       "\n",
       "                                              nature  \\\n",
       "0  {'id': 2054, 'text': 'Sociedade Anônima Fechada'}   \n",
       "\n",
       "                                               size  \\\n",
       "0  {'id': 5, 'acronym': 'DEMAIS', 'text': 'Demais'}   \n",
       "\n",
       "                            simples                             simei  \\\n",
       "0  {'optant': False, 'since': None}  {'optant': False, 'since': None}   \n",
       "\n",
       "   nature.id                nature.text  size.id size.acronym size.text  \\\n",
       "0       2054  Sociedade Anônima Fechada        5       DEMAIS    Demais   \n",
       "\n",
       "   simples.optant simples.since  simei.optant simei.since  \n",
       "0           False          None         False        None  "
      ]
     },
     "metadata": {},
     "output_type": "display_data"
    },
    {
     "name": "stdout",
     "output_type": "stream",
     "text": [
      "\n",
      "DataFrame do Address:\n"
     ]
    },
    {
     "data": {
      "text/html": [
       "<div>\n",
       "<style scoped>\n",
       "    .dataframe tbody tr th:only-of-type {\n",
       "        vertical-align: middle;\n",
       "    }\n",
       "\n",
       "    .dataframe tbody tr th {\n",
       "        vertical-align: top;\n",
       "    }\n",
       "\n",
       "    .dataframe thead th {\n",
       "        text-align: right;\n",
       "    }\n",
       "</style>\n",
       "<table border=\"1\" class=\"dataframe\">\n",
       "  <thead>\n",
       "    <tr style=\"text-align: right;\">\n",
       "      <th></th>\n",
       "      <th>municipality</th>\n",
       "      <th>street</th>\n",
       "      <th>number</th>\n",
       "      <th>district</th>\n",
       "      <th>city</th>\n",
       "      <th>state</th>\n",
       "      <th>details</th>\n",
       "      <th>zip</th>\n",
       "      <th>country.id</th>\n",
       "      <th>country.name</th>\n",
       "    </tr>\n",
       "  </thead>\n",
       "  <tbody>\n",
       "    <tr>\n",
       "      <th>0</th>\n",
       "      <td>3550308</td>\n",
       "      <td>Avenida Francisco Matarazzo</td>\n",
       "      <td>1350</td>\n",
       "      <td>Agua Branca</td>\n",
       "      <td>São Paulo</td>\n",
       "      <td>SP</td>\n",
       "      <td>Andar 2</td>\n",
       "      <td>05001100</td>\n",
       "      <td>76</td>\n",
       "      <td>Brasil</td>\n",
       "    </tr>\n",
       "  </tbody>\n",
       "</table>\n",
       "</div>"
      ],
      "text/plain": [
       "   municipality                       street number     district       city  \\\n",
       "0       3550308  Avenida Francisco Matarazzo   1350  Agua Branca  São Paulo   \n",
       "\n",
       "  state  details       zip  country.id country.name  \n",
       "0    SP  Andar 2  05001100          76       Brasil  "
      ]
     },
     "metadata": {},
     "output_type": "display_data"
    },
    {
     "name": "stdout",
     "output_type": "stream",
     "text": [
      "\n",
      "DataFrame do Status:\n"
     ]
    },
    {
     "data": {
      "text/html": [
       "<div>\n",
       "<style scoped>\n",
       "    .dataframe tbody tr th:only-of-type {\n",
       "        vertical-align: middle;\n",
       "    }\n",
       "\n",
       "    .dataframe tbody tr th {\n",
       "        vertical-align: top;\n",
       "    }\n",
       "\n",
       "    .dataframe thead th {\n",
       "        text-align: right;\n",
       "    }\n",
       "</style>\n",
       "<table border=\"1\" class=\"dataframe\">\n",
       "  <thead>\n",
       "    <tr style=\"text-align: right;\">\n",
       "      <th></th>\n",
       "      <th>id</th>\n",
       "      <th>text</th>\n",
       "    </tr>\n",
       "  </thead>\n",
       "  <tbody>\n",
       "    <tr>\n",
       "      <th>0</th>\n",
       "      <td>2</td>\n",
       "      <td>Ativa</td>\n",
       "    </tr>\n",
       "  </tbody>\n",
       "</table>\n",
       "</div>"
      ],
      "text/plain": [
       "   id   text\n",
       "0   2  Ativa"
      ]
     },
     "metadata": {},
     "output_type": "display_data"
    },
    {
     "name": "stdout",
     "output_type": "stream",
     "text": [
      "\n",
      "DataFrame da Main Activity:\n"
     ]
    },
    {
     "data": {
      "text/html": [
       "<div>\n",
       "<style scoped>\n",
       "    .dataframe tbody tr th:only-of-type {\n",
       "        vertical-align: middle;\n",
       "    }\n",
       "\n",
       "    .dataframe tbody tr th {\n",
       "        vertical-align: top;\n",
       "    }\n",
       "\n",
       "    .dataframe thead th {\n",
       "        text-align: right;\n",
       "    }\n",
       "</style>\n",
       "<table border=\"1\" class=\"dataframe\">\n",
       "  <thead>\n",
       "    <tr style=\"text-align: right;\">\n",
       "      <th></th>\n",
       "      <th>id</th>\n",
       "      <th>text</th>\n",
       "    </tr>\n",
       "  </thead>\n",
       "  <tbody>\n",
       "    <tr>\n",
       "      <th>0</th>\n",
       "      <td>6202300</td>\n",
       "      <td>Desenvolvimento e licenciamento de programas d...</td>\n",
       "    </tr>\n",
       "  </tbody>\n",
       "</table>\n",
       "</div>"
      ],
      "text/plain": [
       "        id                                               text\n",
       "0  6202300  Desenvolvimento e licenciamento de programas d..."
      ]
     },
     "metadata": {},
     "output_type": "display_data"
    },
    {
     "name": "stdout",
     "output_type": "stream",
     "text": [
      "\n",
      "DataFrame de Phones:\n"
     ]
    },
    {
     "data": {
      "text/html": [
       "<div>\n",
       "<style scoped>\n",
       "    .dataframe tbody tr th:only-of-type {\n",
       "        vertical-align: middle;\n",
       "    }\n",
       "\n",
       "    .dataframe tbody tr th {\n",
       "        vertical-align: top;\n",
       "    }\n",
       "\n",
       "    .dataframe thead th {\n",
       "        text-align: right;\n",
       "    }\n",
       "</style>\n",
       "<table border=\"1\" class=\"dataframe\">\n",
       "  <thead>\n",
       "    <tr style=\"text-align: right;\">\n",
       "      <th></th>\n",
       "      <th>type</th>\n",
       "      <th>area</th>\n",
       "      <th>number</th>\n",
       "    </tr>\n",
       "  </thead>\n",
       "  <tbody>\n",
       "    <tr>\n",
       "      <th>0</th>\n",
       "      <td>LANDLINE</td>\n",
       "      <td>11</td>\n",
       "      <td>48619331</td>\n",
       "    </tr>\n",
       "  </tbody>\n",
       "</table>\n",
       "</div>"
      ],
      "text/plain": [
       "       type area    number\n",
       "0  LANDLINE   11  48619331"
      ]
     },
     "metadata": {},
     "output_type": "display_data"
    },
    {
     "name": "stdout",
     "output_type": "stream",
     "text": [
      "\n",
      "DataFrame de Emails:\n"
     ]
    },
    {
     "data": {
      "text/html": [
       "<div>\n",
       "<style scoped>\n",
       "    .dataframe tbody tr th:only-of-type {\n",
       "        vertical-align: middle;\n",
       "    }\n",
       "\n",
       "    .dataframe tbody tr th {\n",
       "        vertical-align: top;\n",
       "    }\n",
       "\n",
       "    .dataframe thead th {\n",
       "        text-align: right;\n",
       "    }\n",
       "</style>\n",
       "<table border=\"1\" class=\"dataframe\">\n",
       "  <thead>\n",
       "    <tr style=\"text-align: right;\">\n",
       "      <th></th>\n",
       "      <th>ownership</th>\n",
       "      <th>address</th>\n",
       "      <th>domain</th>\n",
       "    </tr>\n",
       "  </thead>\n",
       "  <tbody>\n",
       "    <tr>\n",
       "      <th>0</th>\n",
       "      <td>CORPORATE</td>\n",
       "      <td>fiscal@neon.com.br</td>\n",
       "      <td>neon.com.br</td>\n",
       "    </tr>\n",
       "  </tbody>\n",
       "</table>\n",
       "</div>"
      ],
      "text/plain": [
       "   ownership             address       domain\n",
       "0  CORPORATE  fiscal@neon.com.br  neon.com.br"
      ]
     },
     "metadata": {},
     "output_type": "display_data"
    }
   ],
   "source": [
    "import pandas as pd\n",
    "import requests\n",
    "\n",
    "def consultar_api(cnpj):\n",
    "    url = f\"https://open.cnpja.com/office/{cnpj}\"\n",
    "    response = requests.get(url, verify=False)\n",
    "\n",
    "    if response.status_code == 200:\n",
    "        return response.json()\n",
    "    else:\n",
    "        raise Exception(f\"Erro: {response.status_code}\")\n",
    "\n",
    "# Substitua pelo CNPJ que você deseja consultar\n",
    "cnpj = \"20855875000182\"  # Exemplo de CNPJ\n",
    "resultado = consultar_api(cnpj)\n",
    "\n",
    "# DataFrames para diferentes hierarquias\n",
    "df_company = pd.DataFrame()\n",
    "df_address = pd.DataFrame()\n",
    "df_status = pd.DataFrame()\n",
    "df_main_activity = pd.DataFrame()\n",
    "df_phones = pd.DataFrame()\n",
    "df_emails = pd.DataFrame()\n",
    "\n",
    "# Extraindo dados para diferentes DataFrames\n",
    "# Company\n",
    "company_data = resultado.get('company', {})\n",
    "if company_data:\n",
    "    company_data_flat = {key: value for key, value in company_data.items() if key not in ['members']}\n",
    "    company_data_flat['nature.id'] = company_data.get('nature', {}).get('id')\n",
    "    company_data_flat['nature.text'] = company_data.get('nature', {}).get('text')\n",
    "    company_data_flat['size.id'] = company_data.get('size', {}).get('id')\n",
    "    company_data_flat['size.acronym'] = company_data.get('size', {}).get('acronym')\n",
    "    company_data_flat['size.text'] = company_data.get('size', {}).get('text')\n",
    "    company_data_flat['simples.optant'] = company_data.get('simples', {}).get('optant')\n",
    "    company_data_flat['simples.since'] = company_data.get('simples', {}).get('since')\n",
    "    company_data_flat['simei.optant'] = company_data.get('simei', {}).get('optant')\n",
    "    company_data_flat['simei.since'] = company_data.get('simei', {}).get('since')\n",
    "    \n",
    "    df_company = pd.DataFrame([company_data_flat])\n",
    "\n",
    "# Address\n",
    "address_data = resultado.get('address', {})\n",
    "if address_data:\n",
    "    address_data_flat = {\n",
    "        'municipality': address_data.get('municipality'),\n",
    "        'street': address_data.get('street'),\n",
    "        'number': address_data.get('number'),\n",
    "        'district': address_data.get('district'),\n",
    "        'city': address_data.get('city'),\n",
    "        'state': address_data.get('state'),\n",
    "        'details': address_data.get('details'),\n",
    "        'zip': address_data.get('zip'),\n",
    "        'country.id': address_data.get('country', {}).get('id'),\n",
    "        'country.name': address_data.get('country', {}).get('name')\n",
    "    }\n",
    "    df_address = pd.DataFrame([address_data_flat])\n",
    "\n",
    "# Status\n",
    "status_data = resultado.get('status', {})\n",
    "if status_data:\n",
    "    status_data_flat = {\n",
    "        'id': status_data.get('id'),\n",
    "        'text': status_data.get('text')\n",
    "    }\n",
    "    df_status = pd.DataFrame([status_data_flat])\n",
    "\n",
    "# Main Activity\n",
    "main_activity_data = resultado.get('mainActivity', {})\n",
    "if main_activity_data:\n",
    "    main_activity_data_flat = {\n",
    "        'id': main_activity_data.get('id'),\n",
    "        'text': main_activity_data.get('text')\n",
    "    }\n",
    "    df_main_activity = pd.DataFrame([main_activity_data_flat])\n",
    "\n",
    "# Phones\n",
    "phones_data = resultado.get('phones', [])\n",
    "if phones_data:\n",
    "    df_phones = pd.DataFrame(phones_data)\n",
    "\n",
    "# Emails\n",
    "emails_data = resultado.get('emails', [])\n",
    "if emails_data:\n",
    "    df_emails = pd.DataFrame(emails_data)\n",
    "\n",
    "# Exibindo os DataFrames\n",
    "print(\"DataFrame da Company:\")\n",
    "display(df_company)\n",
    "print(\"\\nDataFrame do Address:\")\n",
    "display(df_address)\n",
    "print(\"\\nDataFrame do Status:\")\n",
    "display(df_status)\n",
    "print(\"\\nDataFrame da Main Activity:\")\n",
    "display(df_main_activity)\n",
    "print(\"\\nDataFrame de Phones:\")\n",
    "display(df_phones)\n",
    "print(\"\\nDataFrame de Emails:\")\n",
    "display(df_emails)"
   ]
  },
  {
   "cell_type": "code",
   "execution_count": 18,
   "id": "c679e2b6",
   "metadata": {},
   "outputs": [
    {
     "data": {
      "text/plain": [
       "'Ativa'"
      ]
     },
     "execution_count": 18,
     "metadata": {},
     "output_type": "execute_result"
    }
   ],
   "source": [
    "resultado['status']['text']"
   ]
  }
 ],
 "metadata": {
  "kernelspec": {
   "display_name": "Python 3",
   "language": "python",
   "name": "python3"
  },
  "language_info": {
   "codemirror_mode": {
    "name": "ipython",
    "version": 3
   },
   "file_extension": ".py",
   "mimetype": "text/x-python",
   "name": "python",
   "nbconvert_exporter": "python",
   "pygments_lexer": "ipython3",
   "version": "3.11.2"
  }
 },
 "nbformat": 4,
 "nbformat_minor": 5
}
